{
  "nbformat": 4,
  "nbformat_minor": 0,
  "metadata": {
    "colab": {
      "name": "Untitled",
      "provenance": [],
      "collapsed_sections": [],
      "toc_visible": true,
      "include_colab_link": true
    },
    "kernelspec": {
      "name": "python3",
      "display_name": "Python 3"
    }
  },
  "cells": [
    {
      "cell_type": "markdown",
      "metadata": {
        "id": "view-in-github",
        "colab_type": "text"
      },
      "source": [
        "<a href=\"https://colab.research.google.com/github/18520133/CS112.L11/blob/main/PhanTichThuatToanBangThucNghiem.ipynb\" target=\"_parent\"><img src=\"https://colab.research.google.com/assets/colab-badge.svg\" alt=\"Open In Colab\"/></a>"
      ]
    },
    {
      "cell_type": "code",
      "metadata": {
        "id": "qj1DVUcZbcFw"
      },
      "source": [
        "import pandas as pd\n",
        "import numpy as np\n",
        "import math\n",
        "from sklearn.linear_model import LinearRegression"
      ],
      "execution_count": null,
      "outputs": []
    },
    {
      "cell_type": "code",
      "metadata": {
        "id": "77CyuwMfbetd",
        "outputId": "035ea7a3-7a1d-4b0b-b2bd-a30606c96ca1",
        "colab": {
          "base_uri": "https://localhost:8080/",
          "height": 845
        }
      },
      "source": [
        "import pandas as pd\n",
        "\n",
        "data = pd.read_csv('test.csv')\n",
        "print(data)\n",
        "data.columns = ['size', 'operations']\n",
        "\n",
        "import matplotlib.pyplot as plt\n",
        "plt.scatter(data['size'], data['operations'])"
      ],
      "execution_count": null,
      "outputs": [
        {
          "output_type": "stream",
          "text": [
            "       n      t(n)\n",
            "0    334    224778\n",
            "1    367    271209\n",
            "2    403    326829\n",
            "3    443    394709\n",
            "4    487    476769\n",
            "5    535    575121\n",
            "6    588    694424\n",
            "7    646    837858\n",
            "8    710   1011746\n",
            "9    781   1223823\n",
            "10   859   1480053\n",
            "11   944   1786988\n",
            "12  1038   2160074\n",
            "13  1141   2609463\n",
            "14  1255   3156321\n",
            "15  1380   3815696\n",
            "16  1518   4616234\n",
            "17  1669   5579463\n",
            "18  1835   6743621\n",
            "19  2018   8154734\n",
            "20  2219   9859013\n",
            "21  2440  11919396\n",
            "22  2684  14421128\n",
            "23  2952  17443364\n",
            "24  3247  21102249\n",
            "25  3571  25521933\n",
            "26  3928  30878004\n",
            "27  4320  37346396\n",
            "28  4752  45186764\n",
            "29  5227  54669189\n",
            "30  5749  66130743\n",
            "31  6323  79992269\n"
          ],
          "name": "stdout"
        },
        {
          "output_type": "execute_result",
          "data": {
            "text/plain": [
              "<matplotlib.collections.PathCollection at 0x7f11a03dfba8>"
            ]
          },
          "metadata": {
            "tags": []
          },
          "execution_count": 34
        },
        {
          "output_type": "display_data",
          "data": {
            "image/png": "[encoded data removed]",
            "text/plain": [
              "<Figure size 432x288 with 1 Axes>"
            ]
          },
          "metadata": {
            "tags": [],
            "needs_background": "light"
          }
        }
      ]
    },
    {
      "cell_type": "markdown",
      "metadata": {
        "id": "E4GfqPuyt-UD"
      },
      "source": [
        "##Chuẩn hóa dữ liệu"
      ]
    },
    {
      "cell_type": "code",
      "metadata": {
        "id": "9HJCRW6Gbhar"
      },
      "source": [
        "X = data['size'].values.reshape(-1,1)"
      ],
      "execution_count": null,
      "outputs": []
    },
    {
      "cell_type": "markdown",
      "metadata": {
        "id": "JDrMoVGsuHCc"
      },
      "source": [
        "##Hàm tìm hệ số X"
      ]
    },
    {
      "cell_type": "code",
      "metadata": {
        "id": "pdwG4uUTbjSB"
      },
      "source": [
        "def Find_X(_X):\n",
        "  regr = LinearRegression()\n",
        "  regr.fit(_X, data['operations'])\n",
        "  return regr.coef_"
      ],
      "execution_count": null,
      "outputs": []
    },
    {
      "cell_type": "code",
      "metadata": {
        "id": "5V7ONe79bkSX"
      },
      "source": [
        "result = []"
      ],
      "execution_count": null,
      "outputs": []
    },
    {
      "cell_type": "markdown",
      "metadata": {
        "id": "4_BFBAv4uS6u"
      },
      "source": [
        "##Hàm lg(n)"
      ]
    },
    {
      "cell_type": "code",
      "metadata": {
        "id": "taTsYXqxbl3p",
        "outputId": "0d7a652a-389b-4cf0-b7c3-630ecbf57f87",
        "colab": {
          "base_uri": "https://localhost:8080/",
          "height": 33
        }
      },
      "source": [
        "X_ = np.log2(X)\n",
        "re = Find_X(X_)\n",
        "print(re)\n",
        "result.append(re)"
      ],
      "execution_count": null,
      "outputs": [
        {
          "output_type": "stream",
          "text": [
            "[13325679.6992008]\n"
          ],
          "name": "stdout"
        }
      ]
    },
    {
      "cell_type": "markdown",
      "metadata": {
        "id": "N7o_mMMtuYcs"
      },
      "source": [
        "##Hàm sqrt"
      ]
    },
    {
      "cell_type": "code",
      "metadata": {
        "id": "D0bLB-jfbpAh",
        "outputId": "9c151415-f224-4311-aeae-fe1b34017c4d",
        "colab": {
          "base_uri": "https://localhost:8080/",
          "height": 33
        }
      },
      "source": [
        "X_ = np.sqrt(X)\n",
        "re = Find_X(X_)\n",
        "print(re)\n",
        "result.append(re)"
      ],
      "execution_count": null,
      "outputs": [
        {
          "output_type": "stream",
          "text": [
            "[1037438.88219894]\n"
          ],
          "name": "stdout"
        }
      ]
    },
    {
      "cell_type": "markdown",
      "metadata": {
        "id": "Eskla6MAulCb"
      },
      "source": [
        "##Hàm N"
      ]
    },
    {
      "cell_type": "code",
      "metadata": {
        "id": "S-pOzDtTbsaj",
        "outputId": "41a084c0-d005-47e9-bb9d-2ed2c8196798",
        "colab": {
          "base_uri": "https://localhost:8080/",
          "height": 33
        }
      },
      "source": [
        "re = Find_X(X)\n",
        "print(re)\n",
        "result.append(re)"
      ],
      "execution_count": null,
      "outputs": [
        {
          "output_type": "stream",
          "text": [
            "[11683.44432341]\n"
          ],
          "name": "stdout"
        }
      ]
    },
    {
      "cell_type": "markdown",
      "metadata": {
        "id": "tOP6g4sAurpP"
      },
      "source": [
        "##Hàm n*log(n)"
      ]
    },
    {
      "cell_type": "code",
      "metadata": {
        "id": "NC77AKZDbuIZ",
        "outputId": "1d7c02a9-50b4-4262-fb45-a5c776b87dbf",
        "colab": {
          "base_uri": "https://localhost:8080/",
          "height": 33
        }
      },
      "source": [
        "X_ = X*np.log2(X)\n",
        "re = Find_X(X_)\n",
        "print(re)\n",
        "result.append(re)"
      ],
      "execution_count": null,
      "outputs": [
        {
          "output_type": "stream",
          "text": [
            "[924.74134638]\n"
          ],
          "name": "stdout"
        }
      ]
    },
    {
      "cell_type": "markdown",
      "metadata": {
        "id": "nvuHVZcbu1au"
      },
      "source": [
        "##Hàm pow(n,2)"
      ]
    },
    {
      "cell_type": "code",
      "metadata": {
        "id": "uLSIfPHdbxSb",
        "outputId": "7db0c8b5-1068-4254-92fe-0677e1abe9c7",
        "colab": {
          "base_uri": "https://localhost:8080/",
          "height": 33
        }
      },
      "source": [
        "X_ = X**2\n",
        "re = Find_X(X_)\n",
        "print(re)\n",
        "result.append(re)"
      ],
      "execution_count": null,
      "outputs": [
        {
          "output_type": "stream",
          "text": [
            "[2.00079626]\n"
          ],
          "name": "stdout"
        }
      ]
    },
    {
      "cell_type": "markdown",
      "metadata": {
        "id": "ZEN7kQSbu5NV"
      },
      "source": [
        "##Hàm pow(n,3)"
      ]
    },
    {
      "cell_type": "code",
      "metadata": {
        "id": "B_vKiE0Xb0nT",
        "outputId": "27422f48-5264-4fd5-ce78-f6beb46c9a52",
        "colab": {
          "base_uri": "https://localhost:8080/",
          "height": 33
        }
      },
      "source": [
        "X_ = X**3\n",
        "re = Find_X(X_)\n",
        "print(re)\n",
        "result.append(re)"
      ],
      "execution_count": null,
      "outputs": [
        {
          "output_type": "stream",
          "text": [
            "[0.00033841]\n"
          ],
          "name": "stdout"
        }
      ]
    },
    {
      "cell_type": "markdown",
      "metadata": {
        "id": "qnyZGR5kvCEH"
      },
      "source": [
        "##Hàm pow(2,n)"
      ]
    },
    {
      "cell_type": "code",
      "metadata": {
        "id": "IUilro8Cb4oQ",
        "outputId": "11ef975a-cf9d-4edf-9f69-06026c8bc22a",
        "colab": {
          "base_uri": "https://localhost:8080/",
          "height": 33
        }
      },
      "source": [
        "X_ = 2**X\n",
        "re = Find_X(X_)\n",
        "print(re)\n",
        "result.append(re)"
      ],
      "execution_count": null,
      "outputs": [
        {
          "output_type": "stream",
          "text": [
            "[0.]\n"
          ],
          "name": "stdout"
        }
      ]
    },
    {
      "cell_type": "code",
      "metadata": {
        "id": "JyqF6Nfeb9wh",
        "outputId": "4acd3d28-cfaa-495f-9d0d-4c8b2bc72d94",
        "colab": {
          "base_uri": "https://localhost:8080/",
          "height": 53
        }
      },
      "source": [
        "print(result)"
      ],
      "execution_count": null,
      "outputs": [
        {
          "output_type": "stream",
          "text": [
            "[array([13325679.6992008]), array([1037438.88219894]), array([11683.44432341]), array([924.74134638]), array([2.00079626]), array([0.00033841]), array([0.])]\n"
          ],
          "name": "stdout"
        }
      ]
    }
  ]
}